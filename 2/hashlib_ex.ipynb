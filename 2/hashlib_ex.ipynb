{
 "cells": [
  {
   "cell_type": "code",
   "execution_count": 1,
   "id": "816be848-0772-4bbe-9040-186acee0c2f9",
   "metadata": {},
   "outputs": [
    {
     "name": "stdout",
     "output_type": "stream",
     "text": [
      "SHA-256 Hash: 556b6087316bf60b8525b7c06d8386cbb8a4554bf59bbe1590732623f0b2daff\n",
      "BLAKE2 Hash: 47c730b1d6949822f9e369d2c5879ed06ea22d986323f0710ccd9325ba7445561968866010991afb8692a62d17c56851ba99eeb2cff67ab07f38aafd9b67b099\n",
      "SHAKE-256 Hash: 98e28901ec9fb2366db6717f8683e358733b2a93fa087efb700921f148de617d397638be329bf5a21351e9f306725882f2497cd54611169f73c718bfdabcaafe\n"
     ]
    }
   ],
   "source": [
    "import hashlib\n",
    "\n",
    "data = \"Stefan Mitrovic 29.01.1999\"\n",
    "sha256_hash = hashlib.sha256(data.encode()).hexdigest()\n",
    "\n",
    "print(f\"SHA-256 Hash: {sha256_hash}\")\n",
    "\n",
    "blake2_hash = hashlib.blake2b(data.encode()).hexdigest()\n",
    "\n",
    "print(f\"BLAKE2 Hash: {blake2_hash}\")\n",
    "\n",
    "shake256_hash = hashlib.shake_256(data.encode()).hexdigest(64)\n",
    "\n",
    "print(f\"SHAKE-256 Hash: {shake256_hash}\")"
   ]
  }
 ],
 "metadata": {
  "kernelspec": {
   "display_name": "Python 3 (ipykernel)",
   "language": "python",
   "name": "python3"
  },
  "language_info": {
   "codemirror_mode": {
    "name": "ipython",
    "version": 3
   },
   "file_extension": ".py",
   "mimetype": "text/x-python",
   "name": "python",
   "nbconvert_exporter": "python",
   "pygments_lexer": "ipython3",
   "version": "3.11.2"
  }
 },
 "nbformat": 4,
 "nbformat_minor": 5
}
