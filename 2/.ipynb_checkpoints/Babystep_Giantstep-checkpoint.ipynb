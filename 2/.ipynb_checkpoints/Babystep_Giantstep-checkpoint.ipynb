{
 "cells": [
  {
   "cell_type": "code",
   "execution_count": 1,
   "id": "c99b9d79-020b-475c-a0f8-9bcdbfd01d81",
   "metadata": {},
   "outputs": [],
   "source": [
    "from math import sqrt, ceil\n",
    "import time"
   ]
  },
  {
   "cell_type": "code",
   "execution_count": 2,
   "id": "93b05614-5817-46db-a008-44e71da0a055",
   "metadata": {},
   "outputs": [],
   "source": [
    "def bsgs(g, y, p, option = False):\n",
    "    \n",
    "    k = round(sqrt(p - 1))\n",
    "    X = [None] * k\n",
    "\n",
    "    for i in range(k):\n",
    "        X[i] = pow(g, i, p) # g^i mod p -> X\n",
    "\n",
    "    inv = pow(g, k * (p - 2), p)\n",
    "\n",
    "    if option:\n",
    "        print(\"X: \")\n",
    "        for i in range(k): print(i, \":\", X[i])\n",
    "        Y = [None] * k\n",
    "\n",
    "    for j in range(k):\n",
    "        tmp = (y * pow(inv, j, p)) % p\n",
    "        if option: Y[j] = tmp\n",
    "\n",
    "        if tmp in X:\n",
    "            if option: print(\"Y: \", Y[:j+1])\n",
    "            return X.index(tmp) + j * k\n",
    "\n",
    "    return None"
   ]
  },
  {
   "cell_type": "code",
   "execution_count": 3,
   "id": "2b27cd9d-ec59-470f-913c-563bbad2e205",
   "metadata": {},
   "outputs": [
    {
     "name": "stdout",
     "output_type": "stream",
     "text": [
      "65\n",
      "Execution time: 0.000484040000060304 s\n"
     ]
    }
   ],
   "source": [
    "start_time = time.perf_counter()\n",
    "\n",
    "print(bsgs(45, 61, 98))\n",
    "\n",
    "end_time = time.perf_counter()\n",
    "\n",
    "execution_time = end_time - start_time\n",
    "print(f\"Execution time: {execution_time} s\")"
   ]
  }
 ],
 "metadata": {
  "kernelspec": {
   "display_name": "Python 3 (ipykernel)",
   "language": "python",
   "name": "python3"
  },
  "language_info": {
   "codemirror_mode": {
    "name": "ipython",
    "version": 3
   },
   "file_extension": ".py",
   "mimetype": "text/x-python",
   "name": "python",
   "nbconvert_exporter": "python",
   "pygments_lexer": "ipython3",
   "version": "3.11.2"
  }
 },
 "nbformat": 4,
 "nbformat_minor": 5
}
