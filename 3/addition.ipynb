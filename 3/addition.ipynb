{
 "cells": [
  {
   "cell_type": "code",
   "execution_count": 1,
   "id": "8bf02577-1e54-4d93-873e-e486e71a7412",
   "metadata": {},
   "outputs": [],
   "source": [
    "def add_points(P, Q, a, b):\n",
    "    if P is None:\n",
    "        return Q\n",
    "    if Q is None:\n",
    "        return P\n",
    "\n",
    "    x1, y1 = P\n",
    "    x2, y2 = Q\n",
    "\n",
    "    if P == Q:\n",
    "        if y1 == 0:\n",
    "            return None \n",
    "        m = (3 * x1**2 + a) / (2 * y1)\n",
    "    else:\n",
    "        if x1 == x2 and y1 != y2:\n",
    "            return None \n",
    "            \n",
    "        m = (y2 - y1) / (x2 - x1)\n",
    "    x3 = m**2 - x1 - x2\n",
    "    y3 = m * (x1 - x3) - y1\n",
    "\n",
    "    return (x3, y3)"
   ]
  },
  {
   "cell_type": "code",
   "execution_count": 2,
   "id": "1b7e9ad2-18c8-4278-b5af-6c6b37ec487e",
   "metadata": {},
   "outputs": [
    {
     "name": "stdout",
     "output_type": "stream",
     "text": [
      "P + Q = (-3.0, 2.0)\n"
     ]
    }
   ],
   "source": [
    "# opsti oblik jednacine elipticke krive -> y^2 = x^3 + ax + b\n",
    "# y^2 = x^3 - 7x + 10 P(1,2) Q(3,4)\n",
    "# Da proverimo 1 zadatak sa domaceg\n",
    "\n",
    "a = -7\n",
    "b = 10  \n",
    "P = (1, 2)\n",
    "Q = (3, 4)\n",
    "\n",
    "result = add_points(P, Q, a, b)\n",
    "print(\"P + Q =\", result)"
   ]
  }
 ],
 "metadata": {
  "kernelspec": {
   "display_name": "Python 3 (ipykernel)",
   "language": "python",
   "name": "python3"
  },
  "language_info": {
   "codemirror_mode": {
    "name": "ipython",
    "version": 3
   },
   "file_extension": ".py",
   "mimetype": "text/x-python",
   "name": "python",
   "nbconvert_exporter": "python",
   "pygments_lexer": "ipython3",
   "version": "3.11.2"
  }
 },
 "nbformat": 4,
 "nbformat_minor": 5
}
