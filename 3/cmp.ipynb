{
 "cells": [
  {
   "cell_type": "code",
   "execution_count": 1,
   "id": "59dfe8c4-5d22-4b31-83e1-01ef0cd0a41c",
   "metadata": {},
   "outputs": [],
   "source": [
    "import time\n",
    "from ecdsa import SigningKey, SECP256k1\n",
    "from py_ecc.bls import G2ProofOfPossession as bls# Generate a private key"
   ]
  },
  {
   "cell_type": "code",
   "execution_count": 2,
   "id": "340c65ca-c164-41cf-b7d7-e9265aa331a0",
   "metadata": {},
   "outputs": [
    {
     "name": "stdout",
     "output_type": "stream",
     "text": [
      "ECDSA Sign Time: 0.003562 seconds\n",
      "ECDSA Verify Time: 0.004419 seconds\n",
      "BLS Sign Time: 0.124141 seconds\n",
      "BLS Verify Time: 0.358037 seconds\n"
     ]
    }
   ],
   "source": [
    "# https://privatekeys.pw\n",
    "private_key_value = 0x1a554bC55F548dDB1dFE149D86AdAeCE2831d22C\n",
    "\n",
    "ecdsa_private_key = SigningKey.from_secret_exponent(private_key_value, curve=SECP256k1)\n",
    "ecdsa_public_key = ecdsa_private_key.verifying_key\n",
    "message = b\"Test message\"\n",
    "\n",
    "start_time = time.time()\n",
    "ecdsa_signature = ecdsa_private_key.sign(message)\n",
    "ecdsa_sign_time = time.time() - start_time\n",
    "\n",
    "start_time = time.time()\n",
    "ecdsa_verification = ecdsa_public_key.verify(ecdsa_signature, message)\n",
    "ecdsa_verify_time = time.time() - start_time\n",
    "\n",
    "bls_private_key = private_key_value\n",
    "bls_public_key = bls.SkToPk(bls_private_key)\n",
    "\n",
    "start_time = time.time()\n",
    "bls_signature = bls.Sign(bls_private_key, message)\n",
    "bls_sign_time = time.time() - start_time\n",
    "\n",
    "start_time = time.time()\n",
    "bls_verification = bls.Verify(bls_public_key, message, bls_signature)\n",
    "bls_verify_time = time.time() - start_time\n",
    "\n",
    "print(f\"ECDSA Sign Time: {ecdsa_sign_time:.6f} seconds\")\n",
    "print(f\"ECDSA Verify Time: {ecdsa_verify_time:.6f} seconds\")\n",
    "print(f\"BLS Sign Time: {bls_sign_time:.6f} seconds\")\n",
    "print(f\"BLS Verify Time: {bls_verify_time:.6f} seconds\")"
   ]
  }
 ],
 "metadata": {
  "kernelspec": {
   "display_name": "Python 3 (ipykernel)",
   "language": "python",
   "name": "python3"
  },
  "language_info": {
   "codemirror_mode": {
    "name": "ipython",
    "version": 3
   },
   "file_extension": ".py",
   "mimetype": "text/x-python",
   "name": "python",
   "nbconvert_exporter": "python",
   "pygments_lexer": "ipython3",
   "version": "3.11.2"
  }
 },
 "nbformat": 4,
 "nbformat_minor": 5
}
